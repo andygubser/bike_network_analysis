{
 "cells": [
  {
   "cell_type": "markdown",
   "metadata": {
    "toc": true
   },
   "source": [
    "<h1>Table of Contents<span class=\"tocSkip\"></span></h1>\n",
    "<div class=\"toc\"><ul class=\"toc-item\"><li><span><a href=\"#Data-preperation\" data-toc-modified-id=\"Data-preperation-1\"><span class=\"toc-item-num\">1&nbsp;&nbsp;</span>Data preperation</a></span></li><li><span><a href=\"#Create-the-network\" data-toc-modified-id=\"Create-the-network-2\"><span class=\"toc-item-num\">2&nbsp;&nbsp;</span>Create the network</a></span><ul class=\"toc-item\"><li><span><a href=\"#Basic-concepts-and-definitions\" data-toc-modified-id=\"Basic-concepts-and-definitions-2.1\"><span class=\"toc-item-num\">2.1&nbsp;&nbsp;</span>Basic concepts and definitions</a></span></li></ul></li></ul></div>"
   ]
  },
  {
   "cell_type": "markdown",
   "metadata": {},
   "source": [
    "# Bike Network Analysis"
   ]
  },
  {
   "cell_type": "markdown",
   "metadata": {},
   "source": [
    "## Data preperation"
   ]
  },
  {
   "cell_type": "code",
   "execution_count": 15,
   "metadata": {},
   "outputs": [],
   "source": [
    "# import modules\n",
    "import pandas as pd\n",
    "import networkx as nx\n",
    "import matplotlib.pyplot as plt\n",
    "import seaborn as sns\n",
    "%matplotlib inline"
   ]
  },
  {
   "cell_type": "code",
   "execution_count": 3,
   "metadata": {},
   "outputs": [
    {
     "data": {
      "text/html": [
       "<div>\n",
       "<style scoped>\n",
       "    .dataframe tbody tr th:only-of-type {\n",
       "        vertical-align: middle;\n",
       "    }\n",
       "\n",
       "    .dataframe tbody tr th {\n",
       "        vertical-align: top;\n",
       "    }\n",
       "\n",
       "    .dataframe thead th {\n",
       "        text-align: right;\n",
       "    }\n",
       "</style>\n",
       "<table border=\"1\" class=\"dataframe\">\n",
       "  <thead>\n",
       "    <tr style=\"text-align: right;\">\n",
       "      <th></th>\n",
       "      <th>tripduration</th>\n",
       "      <th>starttime</th>\n",
       "      <th>stoptime</th>\n",
       "      <th>start_station_id</th>\n",
       "      <th>start_station_name</th>\n",
       "      <th>start_station_latitude</th>\n",
       "      <th>start_station_longitude</th>\n",
       "      <th>end_station_id</th>\n",
       "      <th>end_station_name</th>\n",
       "      <th>end_station_latitude</th>\n",
       "      <th>end_station_longitude</th>\n",
       "      <th>bikeid</th>\n",
       "      <th>usertype</th>\n",
       "      <th>birth_year</th>\n",
       "      <th>gender</th>\n",
       "    </tr>\n",
       "  </thead>\n",
       "  <tbody>\n",
       "    <tr>\n",
       "      <th>0</th>\n",
       "      <td>839</td>\n",
       "      <td>1/1/2016 00:09:55</td>\n",
       "      <td>1/1/2016 00:23:54</td>\n",
       "      <td>532</td>\n",
       "      <td>S 5 Pl &amp; S 4 St</td>\n",
       "      <td>40.710451</td>\n",
       "      <td>-73.960876</td>\n",
       "      <td>401</td>\n",
       "      <td>Allen St &amp; Rivington St</td>\n",
       "      <td>40.720196</td>\n",
       "      <td>-73.989978</td>\n",
       "      <td>17109</td>\n",
       "      <td>Customer</td>\n",
       "      <td>NaN</td>\n",
       "      <td>0</td>\n",
       "    </tr>\n",
       "    <tr>\n",
       "      <th>1</th>\n",
       "      <td>686</td>\n",
       "      <td>1/1/2016 00:21:17</td>\n",
       "      <td>1/1/2016 00:32:44</td>\n",
       "      <td>3143</td>\n",
       "      <td>5 Ave &amp; E 78 St</td>\n",
       "      <td>40.776829</td>\n",
       "      <td>-73.963888</td>\n",
       "      <td>3132</td>\n",
       "      <td>E 59 St &amp; Madison Ave</td>\n",
       "      <td>40.763505</td>\n",
       "      <td>-73.971092</td>\n",
       "      <td>23514</td>\n",
       "      <td>Subscriber</td>\n",
       "      <td>1960.0</td>\n",
       "      <td>1</td>\n",
       "    </tr>\n",
       "    <tr>\n",
       "      <th>2</th>\n",
       "      <td>315</td>\n",
       "      <td>1/1/2016 00:33:11</td>\n",
       "      <td>1/1/2016 00:38:26</td>\n",
       "      <td>3164</td>\n",
       "      <td>Columbus Ave &amp; W 72 St</td>\n",
       "      <td>40.777057</td>\n",
       "      <td>-73.978985</td>\n",
       "      <td>3178</td>\n",
       "      <td>Riverside Dr &amp; W 78 St</td>\n",
       "      <td>40.784145</td>\n",
       "      <td>-73.983625</td>\n",
       "      <td>14536</td>\n",
       "      <td>Subscriber</td>\n",
       "      <td>1971.0</td>\n",
       "      <td>1</td>\n",
       "    </tr>\n",
       "    <tr>\n",
       "      <th>3</th>\n",
       "      <td>739</td>\n",
       "      <td>1/1/2016 00:40:51</td>\n",
       "      <td>1/1/2016 00:53:11</td>\n",
       "      <td>223</td>\n",
       "      <td>W 13 St &amp; 7 Ave</td>\n",
       "      <td>40.737815</td>\n",
       "      <td>-73.999947</td>\n",
       "      <td>276</td>\n",
       "      <td>Duane St &amp; Greenwich St</td>\n",
       "      <td>40.717488</td>\n",
       "      <td>-74.010455</td>\n",
       "      <td>24062</td>\n",
       "      <td>Subscriber</td>\n",
       "      <td>1969.0</td>\n",
       "      <td>1</td>\n",
       "    </tr>\n",
       "    <tr>\n",
       "      <th>4</th>\n",
       "      <td>1253</td>\n",
       "      <td>1/1/2016 00:44:16</td>\n",
       "      <td>1/1/2016 01:05:09</td>\n",
       "      <td>484</td>\n",
       "      <td>W 44 St &amp; 5 Ave</td>\n",
       "      <td>40.755003</td>\n",
       "      <td>-73.980144</td>\n",
       "      <td>151</td>\n",
       "      <td>Cleveland Pl &amp; Spring St</td>\n",
       "      <td>40.722104</td>\n",
       "      <td>-73.997249</td>\n",
       "      <td>16380</td>\n",
       "      <td>Customer</td>\n",
       "      <td>NaN</td>\n",
       "      <td>0</td>\n",
       "    </tr>\n",
       "  </tbody>\n",
       "</table>\n",
       "</div>"
      ],
      "text/plain": [
       "   tripduration          starttime           stoptime  start_station_id  \\\n",
       "0           839  1/1/2016 00:09:55  1/1/2016 00:23:54               532   \n",
       "1           686  1/1/2016 00:21:17  1/1/2016 00:32:44              3143   \n",
       "2           315  1/1/2016 00:33:11  1/1/2016 00:38:26              3164   \n",
       "3           739  1/1/2016 00:40:51  1/1/2016 00:53:11               223   \n",
       "4          1253  1/1/2016 00:44:16  1/1/2016 01:05:09               484   \n",
       "\n",
       "       start_station_name  start_station_latitude  start_station_longitude  \\\n",
       "0         S 5 Pl & S 4 St               40.710451               -73.960876   \n",
       "1         5 Ave & E 78 St               40.776829               -73.963888   \n",
       "2  Columbus Ave & W 72 St               40.777057               -73.978985   \n",
       "3         W 13 St & 7 Ave               40.737815               -73.999947   \n",
       "4         W 44 St & 5 Ave               40.755003               -73.980144   \n",
       "\n",
       "   end_station_id          end_station_name  end_station_latitude  \\\n",
       "0             401   Allen St & Rivington St             40.720196   \n",
       "1            3132     E 59 St & Madison Ave             40.763505   \n",
       "2            3178    Riverside Dr & W 78 St             40.784145   \n",
       "3             276   Duane St & Greenwich St             40.717488   \n",
       "4             151  Cleveland Pl & Spring St             40.722104   \n",
       "\n",
       "   end_station_longitude  bikeid    usertype  birth_year  gender  \n",
       "0             -73.989978   17109    Customer         NaN       0  \n",
       "1             -73.971092   23514  Subscriber      1960.0       1  \n",
       "2             -73.983625   14536  Subscriber      1971.0       1  \n",
       "3             -74.010455   24062  Subscriber      1969.0       1  \n",
       "4             -73.997249   16380    Customer         NaN       0  "
      ]
     },
     "execution_count": 3,
     "metadata": {},
     "output_type": "execute_result"
    }
   ],
   "source": [
    "# read data\n",
    "path_to_data = \"../data/NYC-CitiBike-2016.csv\"\n",
    "df = pd.read_csv(path_to_data)\n",
    "df.columns\n",
    "df.columns = df.columns.str.replace(\" \", \"_\")\n",
    "df.head()"
   ]
  },
  {
   "cell_type": "code",
   "execution_count": 4,
   "metadata": {},
   "outputs": [
    {
     "data": {
      "text/html": [
       "<div>\n",
       "<style scoped>\n",
       "    .dataframe tbody tr th:only-of-type {\n",
       "        vertical-align: middle;\n",
       "    }\n",
       "\n",
       "    .dataframe tbody tr th {\n",
       "        vertical-align: top;\n",
       "    }\n",
       "\n",
       "    .dataframe thead th {\n",
       "        text-align: right;\n",
       "    }\n",
       "</style>\n",
       "<table border=\"1\" class=\"dataframe\">\n",
       "  <thead>\n",
       "    <tr style=\"text-align: right;\">\n",
       "      <th></th>\n",
       "      <th>start_station_id</th>\n",
       "      <th>end_station_id</th>\n",
       "      <th>weight</th>\n",
       "    </tr>\n",
       "  </thead>\n",
       "  <tbody>\n",
       "    <tr>\n",
       "      <th>0</th>\n",
       "      <td>72</td>\n",
       "      <td>72</td>\n",
       "      <td>9</td>\n",
       "    </tr>\n",
       "    <tr>\n",
       "      <th>1</th>\n",
       "      <td>72</td>\n",
       "      <td>116</td>\n",
       "      <td>2</td>\n",
       "    </tr>\n",
       "    <tr>\n",
       "      <th>2</th>\n",
       "      <td>72</td>\n",
       "      <td>127</td>\n",
       "      <td>6</td>\n",
       "    </tr>\n",
       "    <tr>\n",
       "      <th>3</th>\n",
       "      <td>72</td>\n",
       "      <td>128</td>\n",
       "      <td>3</td>\n",
       "    </tr>\n",
       "    <tr>\n",
       "      <th>4</th>\n",
       "      <td>72</td>\n",
       "      <td>146</td>\n",
       "      <td>1</td>\n",
       "    </tr>\n",
       "  </tbody>\n",
       "</table>\n",
       "</div>"
      ],
      "text/plain": [
       "   start_station_id  end_station_id  weight\n",
       "0                72              72       9\n",
       "1                72             116       2\n",
       "2                72             127       6\n",
       "3                72             128       3\n",
       "4                72             146       1"
      ]
     },
     "execution_count": 4,
     "metadata": {},
     "output_type": "execute_result"
    }
   ],
   "source": [
    "df_graph = df.groupby([\"start_station_id\", \"end_station_id\"]).size().reset_index()\n",
    "df_graph.rename(columns={0:\"weight\"}, inplace=True)\n",
    "df_graph.head()"
   ]
  },
  {
   "cell_type": "markdown",
   "metadata": {},
   "source": [
    "## Create the network"
   ]
  },
  {
   "cell_type": "code",
   "execution_count": 5,
   "metadata": {},
   "outputs": [],
   "source": [
    "# creating an empty graph object\n",
    "graph_object = nx.Graph()"
   ]
  },
  {
   "cell_type": "code",
   "execution_count": 6,
   "metadata": {},
   "outputs": [],
   "source": [
    "# iterating through the DataFrame to add edges\n",
    "for _, edge in df_graph.iterrows():\n",
    "    graph_object.add_edge(edge['start_station_id'],\n",
    "                          edge['end_station_id'],\n",
    "                          weight=edge['weight'])"
   ]
  },
  {
   "cell_type": "markdown",
   "metadata": {},
   "source": [
    "### Basic concepts and definitions\n",
    "- adjacency matrix\n",
    "- paths\n",
    "- connected components"
   ]
  },
  {
   "cell_type": "markdown",
   "metadata": {},
   "source": [
    "* Centrality measures\n",
    "    * degree\n",
    "    * closeness\n",
    "    * pagerank\n",
    "    * betweenness"
   ]
  },
  {
   "cell_type": "code",
   "execution_count": 27,
   "metadata": {
    "ExecuteTime": {
     "end_time": "2020-06-15T09:59:58.105028Z",
     "start_time": "2020-06-15T09:58:49.382800Z"
    }
   },
   "outputs": [],
   "source": [
    "# Creating a list of degree, closeness, pagerank and betweenness centrality\n",
    "degree_centrality = nx.degree_centrality(graph_object)\n",
    "closeness_centrality = nx.closeness_centrality(graph_object)\n",
    "pagerank = nx.pagerank(graph_object, weight=\"weight\")\n",
    "betweenness_centrality = nx.betweenness_centrality(graph_object, weight='weight')\n",
    "\n",
    "centrality_measures = [degree_centrality,\n",
    "                       closeness_centrality,\n",
    "                       pagerank,\n",
    "                       betweenness_centrality]"
   ]
  },
  {
   "cell_type": "code",
   "execution_count": 32,
   "metadata": {
    "ExecuteTime": {
     "end_time": "2020-06-15T10:02:11.531254Z",
     "start_time": "2020-06-15T10:02:11.467193Z"
    }
   },
   "outputs": [
    {
     "data": {
      "text/html": [
       "<div>\n",
       "<style scoped>\n",
       "    .dataframe tbody tr th:only-of-type {\n",
       "        vertical-align: middle;\n",
       "    }\n",
       "\n",
       "    .dataframe tbody tr th {\n",
       "        vertical-align: top;\n",
       "    }\n",
       "\n",
       "    .dataframe thead th {\n",
       "        text-align: right;\n",
       "    }\n",
       "</style>\n",
       "<table border=\"1\" class=\"dataframe\">\n",
       "  <thead>\n",
       "    <tr style=\"text-align: right;\">\n",
       "      <th></th>\n",
       "      <th>degree</th>\n",
       "      <th>closeness</th>\n",
       "      <th>pagerank</th>\n",
       "      <th>betweenness</th>\n",
       "    </tr>\n",
       "  </thead>\n",
       "  <tbody>\n",
       "    <tr>\n",
       "      <th>72</th>\n",
       "      <td>0.397833</td>\n",
       "      <td>0.616129</td>\n",
       "      <td>0.001857</td>\n",
       "      <td>0.001229</td>\n",
       "    </tr>\n",
       "    <tr>\n",
       "      <th>116</th>\n",
       "      <td>0.425697</td>\n",
       "      <td>0.630036</td>\n",
       "      <td>0.002754</td>\n",
       "      <td>0.001293</td>\n",
       "    </tr>\n",
       "    <tr>\n",
       "      <th>127</th>\n",
       "      <td>0.462848</td>\n",
       "      <td>0.644585</td>\n",
       "      <td>0.003299</td>\n",
       "      <td>0.004447</td>\n",
       "    </tr>\n",
       "    <tr>\n",
       "      <th>128</th>\n",
       "      <td>0.512384</td>\n",
       "      <td>0.665982</td>\n",
       "      <td>0.003410</td>\n",
       "      <td>0.002346</td>\n",
       "    </tr>\n",
       "    <tr>\n",
       "      <th>146</th>\n",
       "      <td>0.362229</td>\n",
       "      <td>0.605666</td>\n",
       "      <td>0.001724</td>\n",
       "      <td>0.001800</td>\n",
       "    </tr>\n",
       "  </tbody>\n",
       "</table>\n",
       "</div>"
      ],
      "text/plain": [
       "       degree  closeness  pagerank  betweenness\n",
       "72   0.397833   0.616129  0.001857     0.001229\n",
       "116  0.425697   0.630036  0.002754     0.001293\n",
       "127  0.462848   0.644585  0.003299     0.004447\n",
       "128  0.512384   0.665982  0.003410     0.002346\n",
       "146  0.362229   0.605666  0.001724     0.001800"
      ]
     },
     "execution_count": 32,
     "metadata": {},
     "output_type": "execute_result"
    }
   ],
   "source": [
    "df_centrality_measures = pd.DataFrame.from_records(\n",
    "    centrality_measures).T.rename(columns={\n",
    "        0: \"degree\",\n",
    "        1: \"closeness\",\n",
    "        2: \"pagerank\",\n",
    "        3: \"betweenness\"\n",
    "    })\n",
    "df_centrality_measures.head()"
   ]
  },
  {
   "cell_type": "code",
   "execution_count": 38,
   "metadata": {
    "ExecuteTime": {
     "end_time": "2020-06-15T10:04:22.068401Z",
     "start_time": "2020-06-15T10:04:22.054280Z"
    }
   },
   "outputs": [
    {
     "data": {
      "text/html": [
       "<div>\n",
       "<style scoped>\n",
       "    .dataframe tbody tr th:only-of-type {\n",
       "        vertical-align: middle;\n",
       "    }\n",
       "\n",
       "    .dataframe tbody tr th {\n",
       "        vertical-align: top;\n",
       "    }\n",
       "\n",
       "    .dataframe thead th {\n",
       "        text-align: right;\n",
       "    }\n",
       "</style>\n",
       "<table border=\"1\" class=\"dataframe\">\n",
       "  <thead>\n",
       "    <tr style=\"text-align: right;\">\n",
       "      <th></th>\n",
       "      <th>degree</th>\n",
       "      <th>closeness</th>\n",
       "      <th>pagerank</th>\n",
       "      <th>betweenness</th>\n",
       "    </tr>\n",
       "  </thead>\n",
       "  <tbody>\n",
       "    <tr>\n",
       "      <th>degree</th>\n",
       "      <td>1.000000</td>\n",
       "      <td>0.912746</td>\n",
       "      <td>0.886320</td>\n",
       "      <td>0.667742</td>\n",
       "    </tr>\n",
       "    <tr>\n",
       "      <th>closeness</th>\n",
       "      <td>0.912746</td>\n",
       "      <td>1.000000</td>\n",
       "      <td>0.776652</td>\n",
       "      <td>0.618269</td>\n",
       "    </tr>\n",
       "    <tr>\n",
       "      <th>pagerank</th>\n",
       "      <td>0.886320</td>\n",
       "      <td>0.776652</td>\n",
       "      <td>1.000000</td>\n",
       "      <td>0.642883</td>\n",
       "    </tr>\n",
       "    <tr>\n",
       "      <th>betweenness</th>\n",
       "      <td>0.667742</td>\n",
       "      <td>0.618269</td>\n",
       "      <td>0.642883</td>\n",
       "      <td>1.000000</td>\n",
       "    </tr>\n",
       "  </tbody>\n",
       "</table>\n",
       "</div>"
      ],
      "text/plain": [
       "               degree  closeness  pagerank  betweenness\n",
       "degree       1.000000   0.912746  0.886320     0.667742\n",
       "closeness    0.912746   1.000000  0.776652     0.618269\n",
       "pagerank     0.886320   0.776652  1.000000     0.642883\n",
       "betweenness  0.667742   0.618269  0.642883     1.000000"
      ]
     },
     "execution_count": 38,
     "metadata": {},
     "output_type": "execute_result"
    }
   ],
   "source": [
    "# pearson correlation between centrality measures\n",
    "df_centrality_measures_corr = df_centrality_measures.corr()\n",
    "df_centrality_measures_corr"
   ]
  },
  {
   "cell_type": "code",
   "execution_count": 61,
   "metadata": {
    "ExecuteTime": {
     "end_time": "2020-06-15T10:10:54.622891Z",
     "start_time": "2020-06-15T10:10:54.482789Z"
    }
   },
   "outputs": [
    {
     "data": {
      "image/png": "[encoded data removed]",
      "text/plain": [
       "<Figure size 432x288 with 2 Axes>"
      ]
     },
     "metadata": {},
     "output_type": "display_data"
    }
   ],
   "source": [
    "# heatmap of pearson correlations between centrality measures\n",
    "sns.set(context=\"poster\")\n",
    "cmap = sns.cm.vlag\n",
    "sns.heatmap(df_centrality_measures_corr, vmin=0, vmax=1, cmap=cmap)\n",
    "plt.show()"
   ]
  },
  {
   "cell_type": "markdown",
   "metadata": {},
   "source": [
    "* Structural features of social networks\n",
    "    * heterogeneity\n",
    "    * assortativity\n",
    "    * clustering\n",
    "    * small world\n",
    "    * (communities)\n",
    "* Network models\n",
    "    * random graphs\n",
    "    * generative models"
   ]
  },
  {
   "cell_type": "code",
   "execution_count": null,
   "metadata": {},
   "outputs": [],
   "source": []
  },
  {
   "cell_type": "code",
   "execution_count": null,
   "metadata": {},
   "outputs": [],
   "source": []
  },
  {
   "cell_type": "code",
   "execution_count": null,
   "metadata": {},
   "outputs": [],
   "source": [
    "# graph plot, weight = counts / duration\n",
    "# graph dependend on week day (Mo-Fr vs. Sa-Su) / season (summer vs winter)"
   ]
  },
  {
   "cell_type": "code",
   "execution_count": null,
   "metadata": {},
   "outputs": [],
   "source": []
  },
  {
   "cell_type": "code",
   "execution_count": null,
   "metadata": {},
   "outputs": [],
   "source": []
  },
  {
   "cell_type": "code",
   "execution_count": null,
   "metadata": {},
   "outputs": [],
   "source": []
  },
  {
   "cell_type": "code",
   "execution_count": null,
   "metadata": {},
   "outputs": [],
   "source": []
  },
  {
   "cell_type": "code",
   "execution_count": null,
   "metadata": {},
   "outputs": [],
   "source": []
  },
  {
   "cell_type": "code",
   "execution_count": 155,
   "metadata": {},
   "outputs": [],
   "source": [
    "References:\n",
    "# https://www.kaggle.com/mmmarchetti/game-of-thrones-network-analysis\n",
    "# https://campus.datacamp.com/courses/introduction-to-network-analysis-in-python/introduction-to-networks?ex=4"
   ]
  },
  {
   "cell_type": "code",
   "execution_count": 156,
   "metadata": {},
   "outputs": [],
   "source": []
  },
  {
   "cell_type": "code",
   "execution_count": null,
   "metadata": {},
   "outputs": [],
   "source": []
  }
 ],
 "metadata": {
  "kernelspec": {
   "display_name": "Python 3",
   "language": "python",
   "name": "python3"
  },
  "language_info": {
   "codemirror_mode": {
    "name": "ipython",
    "version": 3
   },
   "file_extension": ".py",
   "mimetype": "text/x-python",
   "name": "python",
   "nbconvert_exporter": "python",
   "pygments_lexer": "ipython3",
   "version": "3.7.6"
  },
  "toc": {
   "base_numbering": 1,
   "nav_menu": {},
   "number_sections": true,
   "sideBar": true,
   "skip_h1_title": true,
   "title_cell": "Table of Contents",
   "title_sidebar": "Contents",
   "toc_cell": true,
   "toc_position": {},
   "toc_section_display": true,
   "toc_window_display": true
  }
 },
 "nbformat": 4,
 "nbformat_minor": 4
}
